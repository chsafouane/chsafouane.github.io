{
 "cells": [
  {
   "cell_type": "markdown",
   "metadata": {},
   "source": [
    "**Table of contents**<a id='toc0_'></a>    \n",
    "- [Hexadecimal representation](#toc1_1_)    \n",
    "- [UTF-8 encoding](#toc1_2_)    \n",
    "  - [Some Unicode vocab](#toc1_2_1_)    \n",
    "  - [WTF is UTF-8 ?](#toc1_2_2_)    \n",
    "  - [A sentence example](#toc1_2_3_)    \n",
    "- [BPE Tokenization](#toc1_3_)    \n",
    "  - [BPE in action](#toc1_3_1_)    \n",
    "  - [How does it work](#toc1_3_2_)    \n",
    "  - [Let us build a BPE tokenizer](#toc1_3_3_)    \n",
    "    - [Encoding](#toc1_3_3_1_)    \n",
    "    - [Decoding](#toc1_3_3_2_)    \n",
    "    - [One last problem to solve](#toc1_3_3_3_)    \n",
    "  - [One final example](#toc1_3_4_)    \n",
    "\n",
    "<!-- vscode-jupyter-toc-config\n",
    "\tnumbering=false\n",
    "\tanchor=true\n",
    "\tflat=false\n",
    "\tminLevel=1\n",
    "\tmaxLevel=6\n",
    "\t/vscode-jupyter-toc-config -->\n",
    "<!-- THIS CELL WILL BE REPLACED ON TOC UPDATE. DO NOT WRITE YOUR TEXT IN THIS CELL -->"
   ]
  },
  {
   "cell_type": "markdown",
   "metadata": {},
   "source": [
    "The aim of this blog is to explain to you how BPE Tokenization works. We're going to build a basic tokenizer using BPE tokenization and we'll apply it on a dummy example.\n",
    "\n",
    "We're not going to go into the gory details of it. If you'd like a great source for the details of tokenization, watch this 2-hour long [video by the amazing Andrej Karpathy](https://www.youtube.com/watch?v=zduSFxRajkE). Everything in this post comes from Andrej's video or the resources he shared in his video.\n",
    "\n",
    "This post is just a way for me to organize ideas in my head before moving on to the next topic."
   ]
  },
  {
   "cell_type": "markdown",
   "metadata": {},
   "source": [
    "## <a id='toc1_1_'></a>[Hexadecimal representation](#toc0_)"
   ]
  },
  {
   "cell_type": "markdown",
   "metadata": {},
   "source": [
    "Let go for a quick tour of hexadecimal representation. We, as humans, usually represent numbers in base 10. Computers make use of base 2 representation.\n",
    "\n",
    "Hexadecimal representation means representing a number in base 16. Numbers are represented using 0 to 9 and A-F, with A being equivalent to 10, B to 11, ..., F to 15.\n",
    "\n",
    "The number 125 can be written in hexadecimal as 7D."
   ]
  },
  {
   "cell_type": "code",
   "execution_count": 2,
   "metadata": {},
   "outputs": [
    {
     "data": {
      "text/plain": [
       "'0x7d'"
      ]
     },
     "execution_count": 2,
     "metadata": {},
     "output_type": "execute_result"
    }
   ],
   "source": [
    "# d * (16**0) + 7 * (16**1) = 13 + 7 * 16\n",
    "hex(125)"
   ]
  },
  {
   "cell_type": "markdown",
   "metadata": {},
   "source": [
    "Now, a byte is represented with 8 bits, with a range going from 00000000 to 11111111 <->  0 to 255 in decimal <-> 00 to FF in hexadecimal  "
   ]
  },
  {
   "cell_type": "code",
   "execution_count": 3,
   "metadata": {},
   "outputs": [
    {
     "name": "stdout",
     "output_type": "stream",
     "text": [
      "0xff\n"
     ]
    }
   ],
   "source": [
    "print(hex(255))"
   ]
  },
  {
   "cell_type": "markdown",
   "metadata": {},
   "source": [
    "*Note:* The prefix `0x` is used in intergers to tell Python to interpret the number as a hexadecimal. For example: "
   ]
  },
  {
   "cell_type": "code",
   "execution_count": 4,
   "metadata": {},
   "outputs": [
    {
     "name": "stdout",
     "output_type": "stream",
     "text": [
      "255\n"
     ]
    }
   ],
   "source": [
    "# Python understands that this number is represented in hexadecimal\n",
    "hex_number = 0xff\n",
    "\n",
    "print(hex_number)"
   ]
  },
  {
   "cell_type": "markdown",
   "metadata": {},
   "source": [
    "## <a id='toc1_2_'></a>[UTF-8 encoding](#toc0_)\n",
    "\n",
    "Little background about UTF-8 encoding. So, UTF-8 is an encoding that represents Unicode characters using 1 to 4 bytes. So, every string is converted to a series of bytes once encoded using a Unicode encoding (such as UTF-8).\n",
    "\n",
    "### <a id='toc1_2_1_'></a>[Some Unicode vocab](#toc0_)\n",
    "\n",
    "You should know at least these two words when dealing with Unicode: **character** and **code point**:\n",
    "- A character is a textual unit in Unicode. It can be anything ranging from a letter, a digit, an emoji, a mathematical symbol, etc."
   ]
  },
  {
   "cell_type": "code",
   "execution_count": 15,
   "metadata": {},
   "outputs": [
    {
     "name": "stdout",
     "output_type": "stream",
     "text": [
      "Character: A\n",
      "Arabic character: ص\n"
     ]
    }
   ],
   "source": [
    "character = \"A\"\n",
    "print(f\"Character: {character}\")\n",
    "\n",
    "# First letter of my name in Arabic\n",
    "# You might think of it as S\n",
    "# Arabic speakers, don't insult me for this analogy \n",
    "arabic_s_character = \"ص\"\n",
    "print(f\"Arabic character: {arabic_s_character}\")"
   ]
  },
  {
   "cell_type": "markdown",
   "metadata": {},
   "source": [
    "- A code point is a unique number assigned to each character in Unicode. You can obtain it in Python using the `ord` function."
   ]
  },
  {
   "cell_type": "code",
   "execution_count": 58,
   "metadata": {},
   "outputs": [
    {
     "name": "stdout",
     "output_type": "stream",
     "text": [
      "The character A has as a code point 65 in decimal, which corresponds to 0x41 in hexadecimal\n",
      "The character ص has as a code point 1589 in decimal, which corresponds to 0x635 in hexadecimal\n"
     ]
    }
   ],
   "source": [
    "A_code_point = ord(character)\n",
    "print(f\"The character {character} has as a code point {A_code_point} in decimal, which corresponds to {hex(A_code_point)} in hexadecimal\")\n",
    "\n",
    "arabic_s_code_point = ord(arabic_s_character)\n",
    "print(f\"The character {arabic_s_character} has as a code point {arabic_s_code_point} in decimal, which corresponds to {hex(arabic_s_code_point)} in hexadecimal\")"
   ]
  },
  {
   "cell_type": "markdown",
   "metadata": {},
   "source": [
    "*Nice to know:*\n",
    "- Use `ord` to go from a character -> a code point\n",
    "- Use `chr` to go from a code point -> a character"
   ]
  },
  {
   "cell_type": "markdown",
   "metadata": {},
   "source": [
    "At this step, I highly advise you to take a look at the start of the [Unicode Character Table](https://symbl.cc/en/unicode-table/).\n",
    "\n",
    "If you look at this table, you'll see that the character `ص` doesn't have `1589` as a code point, it rather has `U+0635`. These are the same number, it's just that Unicode uses the hexadecimal notation for code points instead of the decimal one."
   ]
  },
  {
   "cell_type": "markdown",
   "metadata": {},
   "source": [
    "### <a id='toc1_2_2_'></a>[WTF is UTF-8 ?](#toc0_)"
   ]
  },
  {
   "cell_type": "markdown",
   "metadata": {},
   "source": [
    "So, UTF-8 is a Unicode encoding method. It encodes code points in 1 to 4 bytes (it is a variable-length encoding, not all code points are encoded as 4 bytes as this will consume so much memory!).\n",
    "\n",
    "Other encoding methods such as UTF-16 and UTF-32 exist but they do things differently than UTF-8. UTF-8 is the most used encoding method in the wild for reasons that I won't go into in this post.\n",
    "\n",
    "Now, the thing is that UTF-8 encoding doesn't just convert the Unicode code point to its binary presentation. It does it in a specific way. The following table from wikipedia explains very well the conversion from code points to UTF8-encoding.\n",
    "\n",
    "This table shows four ranges, the 1st range is encoded using 1 byte only, the second one 2 bytes, etc. Each range has its own norm for encoding code points using UTF-8.\n"
   ]
  },
  {
   "cell_type": "markdown",
   "metadata": {},
   "source": [
    "<p align=\"center\">\n",
    "    <img src=\"https://github.com/chsafouane/chsafouane.github.io/blob/master/images/2024-07-07-Byte_Pair_Encoding_Tokenization/utf8_table.png?raw=true\" alt=\"image.png\">\n",
    "</p>\n"
   ]
  },
  {
   "cell_type": "markdown",
   "metadata": {},
   "source": [
    "**Character ص example**:\n",
    "\n"
   ]
  },
  {
   "cell_type": "markdown",
   "metadata": {},
   "source": [
    "The character `ص` code point is `U+0635` (1589 in decimal). If you try to represent this using binary presentation, it doesn't fit into 1 byte, you'll need to use 2 bytes.\n",
    "\n",
    "Using 2 bytes, it yields the following `00000110 00110101`. Now, UTF-8 doesn't use conversion to bytes to encode code points. It has its own rules to do the encoding.\n",
    "\n",
    "Now, if you look at the table, you see that `U+0635` falls between the range of `U+0080` and `U+07FF`. So, we have to use the rule in the second row to encode it using UTF-8.\n",
    "\n",
    "The way to do this is to fill the `x` with the numbers in the binary representation starting from the right (copy-paste digit from the binary representation starting from the right):\n",
    "- Before filling: [110]xxxxx [10]xxxxxx\n",
    "- After filling: [110]11000 [10]110101. In hexadecimal, this yields `d8 b5`.\n",
    "\n",
    "\n"
   ]
  },
  {
   "cell_type": "code",
   "execution_count": 70,
   "metadata": {},
   "outputs": [
    {
     "name": "stdout",
     "output_type": "stream",
     "text": [
      "The byte 11011000 yields in hexadecimal: 0xd8\n",
      "The byte 10110101 yields in hexadecimal: 0xb5\n"
     ]
    }
   ],
   "source": [
    "print(f\"The byte 11011000 yields in hexadecimal: {hex(0b11011000)}\")\n",
    "print(f\"The byte 10110101 yields in hexadecimal: {hex(0b10110101)}\")"
   ]
  },
  {
   "cell_type": "markdown",
   "metadata": {},
   "source": [
    "Now, this should match the result of the UTF-8 encoding of the character `ص` using Python"
   ]
  },
  {
   "cell_type": "code",
   "execution_count": 71,
   "metadata": {},
   "outputs": [
    {
     "data": {
      "text/plain": [
       "b'\\xd8\\xb5'"
      ]
     },
     "execution_count": 71,
     "metadata": {},
     "output_type": "execute_result"
    }
   ],
   "source": [
    "\"ص\".encode(\"utf-8\")"
   ]
  },
  {
   "cell_type": "markdown",
   "metadata": {},
   "source": [
    "The same rule can be applied to all the 4 ranges in order to go from a code point to its UTF-8 encoding.\n",
    "\n",
    "At this step, I suggest you pick some characters from the unicode table page I've given you above and do the encoding manually."
   ]
  },
  {
   "cell_type": "markdown",
   "metadata": {},
   "source": [
    "**Note**: There is something that you should note at this step:\n",
    "- Unicode allows us to go from a character to a code point\n",
    "- The UTF-8 encoding (which is one of Unicode available encodings) allows us to go from a code point to a 1 to 4 bytes representation, depending on the character.\n",
    "\n",
    "This yields the following trajectory: `Unicode character` <-> `Code point` -> `1 to 4 bytes representation`.\n",
    "\n",
    "Now, if you take any 1 to 4 bytes number, it doesn't always map to a code point as it might not respect the rules specified in the wikipedia table above. For example, `11111111` (255 in decimal) corresponds to 1 byte but it's not a valid unicode encoding. This is because the rule specifies that all 1-byte encoded characters should start with a `0` and not a `1`."
   ]
  },
  {
   "cell_type": "markdown",
   "metadata": {},
   "source": [
    "### <a id='toc1_2_3_'></a>[A sentence example](#toc0_)"
   ]
  },
  {
   "cell_type": "markdown",
   "metadata": {},
   "source": [
    "Let us now encode a whole sentence and see the result: `Hello there صفوان`"
   ]
  },
  {
   "cell_type": "code",
   "execution_count": 73,
   "metadata": {},
   "outputs": [
    {
     "name": "stdout",
     "output_type": "stream",
     "text": [
      "The UTF-8 encoding of the sentence 'Hello there صفوان' is: b'Hello there \\xd8\\xb5\\xd9\\x81\\xd9\\x88\\xd8\\xa7\\xd9\\x86'\n"
     ]
    }
   ],
   "source": [
    "ex_sentence = \"Hello there صفوان\"\n",
    "\n",
    "print(f\"The UTF-8 encoding of the sentence '{ex_sentence}' is: {ex_sentence.encode('UTF-8')}\")"
   ]
  },
  {
   "cell_type": "markdown",
   "metadata": {},
   "source": [
    "I hope you at least recognize the UTF-8 encoding of the character `ص`: `\\xd8\\xb5`\n",
    "\n",
    "A question that might come to your mind upong seeing the result is why the hell we have characters like `H` in a bytes representation. This is something that has to do with the display of bytes in Python.\n",
    "\n",
    "Python uses a mixed representation of bytes for readability:\n",
    "- ASCII characters, even when encoded as bytes, are displayed in their readable form\n",
    "- Non-ASCII characters, when encoded as bytes, are displayed in hexadecimal format\n",
    "\n",
    "It's just a displaying matter !\n"
   ]
  },
  {
   "cell_type": "markdown",
   "metadata": {},
   "source": [
    "## <a id='toc1_3_'></a>[BPE Tokenization](#toc0_)"
   ]
  },
  {
   "cell_type": "markdown",
   "metadata": {},
   "source": [
    "In order to feed data to a model, we have to first convert it to numerical data. The process for NLP models looks as follow:\n",
    "\n",
    "<p align=center>Text ---> Tokenizer ---> Numerical ids (tokens) ---> NLP model ---> Prediction</p>\n",
    "\n",
    "Now, if you look at the definition of `str` in Python, it's defined as follows:\n",
    "\n",
    "```\n",
    "Textual data in Python is handled with str objects, or strings. Strings are immutable sequences of Unicode code points\n",
    "```\n",
    "\n",
    "From this definition, you can decide to just map every unicode character to its code point. For e.g, `ص` will be mapped to `1589`. Using this technique will yield a vocabulary of  almost 150 000 tokens.\n",
    "\n",
    "The problem with this is:\n",
    "- Your vocabulary will be big. This means that your model will have embedding layers of 150 000 * size_of_your_embeddding\n",
    "- With that many characters, it's very likely that your model training dataset won't contain many of them that often, if not at all. If your model gets to see `ص` very few times, its embedding will be very ill trained. At the end of training, its embedding will be very close to its random initialization state and would be of no use at all.\n",
    "- As your input sentence will be divided in unique characters, a simple sentence will consume lots of tokens in your input context. This means that:\n",
    "  - At inference, you'll have to make predictions for every character\n",
    "  - Your sentence will take so much memory because even a simple sentence will be long, many embeddings used and calculations will have to be made over all those embeddings\n",
    "  - Simple text will consume so much of the model context size\n",
    "\n",
    "\n",
    "Let look at this famous sentence `The quick brown fox jumps over the lazy dog`. If every character is considered a token, it will consist of 28 different tokens"
   ]
  },
  {
   "cell_type": "code",
   "execution_count": 4,
   "metadata": {},
   "outputs": [
    {
     "name": "stdout",
     "output_type": "stream",
     "text": [
      "Number of tokens in The quick brown fox jumps over the lazy dog is: 28\n"
     ]
    }
   ],
   "source": [
    "example_sentence= \"The quick brown fox jumps over the lazy dog\"\n",
    "print(f\"Number of tokens in {example_sentence} is: {len(set([e for e in example_sentence]))}\")"
   ]
  },
  {
   "cell_type": "markdown",
   "metadata": {},
   "source": [
    "If we use GPT-4o tokenizer that is a BPE tokenizer itself, let us see how many tokenizer we get:"
   ]
  },
  {
   "cell_type": "code",
   "execution_count": 6,
   "metadata": {},
   "outputs": [
    {
     "name": "stdout",
     "output_type": "stream",
     "text": [
      "Number of tokens in The quick brown fox jumps over the lazy dog with GPT-4o tokenizer is: 9\n"
     ]
    }
   ],
   "source": [
    "import tiktoken\n",
    "\n",
    "tokenizer = tiktoken.get_encoding(\"o200k_base\")\n",
    "encoded_input = tokenizer.encode(example_sentence)\n",
    "print(f\"Number of tokens in {example_sentence} with GPT-4o tokenizer is: {len(encoded_input)}\")"
   ]
  },
  {
   "cell_type": "markdown",
   "metadata": {},
   "source": [
    "When we look at the tokens resulting from GPT-4o tokenizer, we get to see that every word is a token in this case."
   ]
  },
  {
   "cell_type": "code",
   "execution_count": 8,
   "metadata": {},
   "outputs": [
    {
     "name": "stdout",
     "output_type": "stream",
     "text": [
      "The token with id 976 represents b'The'\n",
      "The token with id 4853 represents b' quick'\n",
      "The token with id 19705 represents b' brown'\n",
      "The token with id 68347 represents b' fox'\n",
      "The token with id 65613 represents b' jumps'\n",
      "The token with id 1072 represents b' over'\n",
      "The token with id 290 represents b' the'\n",
      "The token with id 29082 represents b' lazy'\n",
      "The token with id 6446 represents b' dog'\n"
     ]
    }
   ],
   "source": [
    "for token in encoded_input:\n",
    "    print(f\"The token with id {token} represents {tokenizer.decode_single_token_bytes(token)}\")"
   ]
  },
  {
   "cell_type": "markdown",
   "metadata": {},
   "source": [
    "If you'd like to play with different tokenizers, visit this page: https://tiktokenizer.vercel.app/, select the tokenizer and get going!"
   ]
  },
  {
   "cell_type": "markdown",
   "metadata": {},
   "source": [
    "### <a id='toc1_3_1_'></a>[BPE in action](#toc0_)\n",
    "\n",
    "For this, you'll need to install `tiktoken` package using `pip install tiktoken`."
   ]
  },
  {
   "cell_type": "code",
   "execution_count": 2,
   "metadata": {},
   "outputs": [],
   "source": [
    "import tiktoken\n",
    "\n",
    "tokenizer = tiktoken.get_encoding(\"o200k_base\")"
   ]
  },
  {
   "cell_type": "code",
   "execution_count": 11,
   "metadata": {},
   "outputs": [
    {
     "name": "stdout",
     "output_type": "stream",
     "text": [
      "The result of tokenization consists of 5 tokens: [5444, 1308, 382, 37315, 10878]\n"
     ]
    }
   ],
   "source": [
    "input_str = \"My name is صفوان\"\n",
    "encoded_input = tokenizer.encode(input_str)\n",
    "print(f\"The result of tokenization consists of {len(encoded_input)} tokens: {encoded_input}\")"
   ]
  },
  {
   "cell_type": "markdown",
   "metadata": {},
   "source": [
    "Let us decode each one of these tokens and see what they consist of:"
   ]
  },
  {
   "cell_type": "code",
   "execution_count": 12,
   "metadata": {},
   "outputs": [
    {
     "name": "stdout",
     "output_type": "stream",
     "text": [
      "The token with id 5444 represents b'My'\n",
      "The token with id 1308 represents b' name'\n",
      "The token with id 382 represents b' is'\n",
      "The token with id 37315 represents b' \\xd8\\xb5\\xd9\\x81'\n",
      "The token with id 10878 represents b'\\xd9\\x88\\xd8\\xa7\\xd9\\x86'\n"
     ]
    }
   ],
   "source": [
    "for token in encoded_input:\n",
    "    print(f\"The token with id {token} represents {tokenizer.decode_single_token_bytes(token)}\")"
   ]
  },
  {
   "cell_type": "markdown",
   "metadata": {},
   "source": [
    "I hope you recognize, in the 4th print statement, the hexadecimal representation of the character `ص` We can see that the fourth"
   ]
  },
  {
   "cell_type": "code",
   "execution_count": 13,
   "metadata": {},
   "outputs": [
    {
     "data": {
      "text/plain": [
       "[b'My', b' name', b' is', b' \\xd8\\xb5\\xd9\\x81', b'\\xd9\\x88\\xd8\\xa7\\xd9\\x86']"
      ]
     },
     "execution_count": 13,
     "metadata": {},
     "output_type": "execute_result"
    }
   ],
   "source": [
    "[tokenizer.decode_single_token_bytes(x) for x in encoded_input]"
   ]
  },
  {
   "cell_type": "markdown",
   "metadata": {},
   "source": [
    "Let us decode that fourth element and see what it consists of:"
   ]
  },
  {
   "cell_type": "code",
   "execution_count": 14,
   "metadata": {},
   "outputs": [
    {
     "data": {
      "text/plain": [
       "' صف'"
      ]
     },
     "execution_count": 14,
     "metadata": {},
     "output_type": "execute_result"
    }
   ],
   "source": [
    "tokenizer.decode_single_token_bytes(encoded_input[3]).decode(\"utf-8\")"
   ]
  },
  {
   "cell_type": "markdown",
   "metadata": {},
   "source": [
    "We can see that this token consists of 3 unicode characters:\n",
    "- The space character\n",
    "- `ص`, the character with the code point `U+0635`, whose UTF-8 encoding is `d8 b5`\n",
    "- `ف`, the character with the code point `U`, whose UTF-8 encoding is `d9 81`"
   ]
  },
  {
   "cell_type": "markdown",
   "metadata": {},
   "source": [
    "### <a id='toc1_3_2_'></a>[How does it work](#toc0_)\n",
    "\n",
    "As you might have guessed from its name, the Byte Pair Encoding mechanism does mainly two things to tokenize your data:\n",
    "- It represents strings as streams of bytes. Now, if you represent your data using only bytes, as a character usually consists of many bytes, that will be worse than using unicode code points as tokenized strings will be very very long.\n",
    "A byte can go only from 0 to 255.\n",
    "\n",
    "\n",
    "- When some pair of bytes are so common in the corpus, it's going to merge them going forward and assign a new id to them.\n",
    "So, in the example of the token ' صف', GPT-4 tokenizer has decided to merge the bytes that these two arabic characters consist of, meaning these four bytes:\n",
    "  - space character (20 in hex, 32 in decimal)\n",
    "  - d8 (216 in decimal)\n",
    "  - b5 (181 in decimal)\n",
    "  - d9 (217 in decimal)\n",
    "  - 81 (129 in decimal)\n",
    "\n",
    "and assigned to the whole token  `'  صف'` the id `37315`.\n",
    "\n",
    "Of course, the vocabulary identified by tokenizers can't just grow indefinitly. otherwise, your model embedding table will also be huge and the model will be practically unusable. That's why BPE tokenizers have a hyperparameter that specifies the number of merges that can be done when training.\n",
    "\n",
    "**A quick recap:** When training a tokenizer, convert string to bytes. The result will consist of numbers going from 0 to 255. Merge bytes that come-up together so often and assign an id to them.\n"
   ]
  },
  {
   "cell_type": "markdown",
   "metadata": {},
   "source": [
    "### <a id='toc1_3_3_'></a>[Let us build a BPE tokenizer](#toc0_)\n",
    "#### <a id='toc1_3_3_1_'></a>[Encoding](#toc0_)"
   ]
  },
  {
   "cell_type": "markdown",
   "metadata": {},
   "source": [
    "So, we basically need to do three things to build our tokenizer:\n",
    "- Define our basic vocab that we'll grow as we merge the most common pair of bytes\n",
    "- Convert our corpus to a stream of bytes (just encoding it using UTF-8)\n",
    "- Do the following `number_of_merges` times:\n",
    "  - Get the most common pair of bytes\n",
    "  - Merge the two pairs in a new id. Everytime the tokenizer will see the two pairs together, it will map them to the new ID."
   ]
  },
  {
   "cell_type": "markdown",
   "metadata": {},
   "source": [
    "So, our starting vocab is just the 1 byte interval (0 to 255), and as we merge the most common, we'll append new ids corresponding to the merged bytes."
   ]
  },
  {
   "cell_type": "code",
   "execution_count": 45,
   "metadata": {},
   "outputs": [],
   "source": [
    "vocab = {i:i for i in range(256)}"
   ]
  },
  {
   "cell_type": "markdown",
   "metadata": {},
   "source": [
    "As stated before, the first step is to convert our corpus to a stream of bytes by encoding using UTF-8."
   ]
  },
  {
   "cell_type": "markdown",
   "metadata": {},
   "source": [
    "Let us start with a very basic training corpus, it will make testing our functions very easy. Later, we'll use a corpus consisting of many languages."
   ]
  },
  {
   "cell_type": "code",
   "execution_count": 131,
   "metadata": {},
   "outputs": [],
   "source": [
    "corpus = \"Hello Hello Hello my name is Safouane and I am the author of this post\""
   ]
  },
  {
   "cell_type": "code",
   "execution_count": 132,
   "metadata": {},
   "outputs": [],
   "source": [
    "encoded_corpus = corpus.encode(\"UTF-8\")"
   ]
  },
  {
   "cell_type": "markdown",
   "metadata": {},
   "source": [
    "As we want to use bytes using the decimal representation (0-255) instead of hexadecimal (0x00 - 0xFF) (the default after encoding with UTF-8) for readability purposes, we'll do the conversion right away"
   ]
  },
  {
   "cell_type": "code",
   "execution_count": 133,
   "metadata": {},
   "outputs": [
    {
     "name": "stdout",
     "output_type": "stream",
     "text": [
      "[72, 101, 108, 108, 111, 32, 72, 101, 108, 108]\n"
     ]
    }
   ],
   "source": [
    "encoded_corpus = [int(x) for x in encoded_corpus]\n",
    "print(encoded_corpus[:10])"
   ]
  },
  {
   "cell_type": "markdown",
   "metadata": {},
   "source": [
    "Let build a function that returns the most common pair of bytes in the whole corpus"
   ]
  },
  {
   "cell_type": "code",
   "execution_count": 134,
   "metadata": {},
   "outputs": [],
   "source": [
    "from collections import Counter\n",
    "\n",
    "def get_most_common_pair(encoded_corpus: list[int]) -> tuple:\n",
    "    \"\"\"Returns a tuple of the most common pair of bytes in a corpus.\n",
    "    \"\"\"\n",
    "    most_common_pair_and_count = Counter(zip(encoded_corpus[:-2], encoded_corpus[1:])).most_common(1)\n",
    "    most_common_pair = most_common_pair_and_count[0][0]\n",
    "    return most_common_pair"
   ]
  },
  {
   "cell_type": "markdown",
   "metadata": {},
   "source": [
    "Let us see what's the most common pair of bytes in this corpus"
   ]
  },
  {
   "cell_type": "code",
   "execution_count": 135,
   "metadata": {},
   "outputs": [
    {
     "name": "stdout",
     "output_type": "stream",
     "text": [
      "The most common pair is (72, 101). 72 corresponds to H and 101 corresponds to e\n"
     ]
    }
   ],
   "source": [
    "most_common_pair = get_most_common_pair(encoded_corpus)\n",
    "\n",
    "print(f\"The most common pair is {most_common_pair}. {most_common_pair[0]} corresponds to {chr(most_common_pair[0])} and {most_common_pair[1]} corresponds to {chr(most_common_pair[1])}\")"
   ]
  },
  {
   "cell_type": "markdown",
   "metadata": {},
   "source": [
    "Let us write a function that takes the encoded corpus, the vocabulary, the pair of ids to merge and:\n",
    "- Updates the vocabulary by adding the new id that replaces the occurence of the pair of the ids to merge\n",
    "- Updates the corpus by replacing the occurence of the pair of ids with the new id"
   ]
  },
  {
   "cell_type": "code",
   "execution_count": 136,
   "metadata": {},
   "outputs": [],
   "source": [
    "def merge_and_update_corpus_and_vocab(encoded_corpus, vocab, pair_to_merge):\n",
    "    \"\"\"Updates the vocab with the new pair of ids to merge\n",
    "    & updates the corpus to use the new id instead of the pair of bytes\n",
    "    \"\"\"\n",
    "    updated_corpus = []\n",
    "    updated_vocab = vocab.copy()\n",
    "\n",
    "    # Add id for merged pair in vocab\n",
    "    pair_new_id = max(vocab.keys()) + 1\n",
    "    updated_vocab[pair_new_id] = pair_to_merge\n",
    "\n",
    "    # Update corpus to use the new id instead of the couple the pair of ids\n",
    "    i = 0\n",
    "\n",
    "    while i < len(encoded_corpus):\n",
    "        if (i < len(encoded_corpus) - 1) and encoded_corpus[i] == pair_to_merge[0] and encoded_corpus[i + 1] == pair_to_merge[1]:\n",
    "            updated_corpus.append(pair_new_id)\n",
    "            i += 2\n",
    "        else:\n",
    "            updated_corpus.append(encoded_corpus[i])\n",
    "            i +=1\n",
    "    \n",
    "    return updated_corpus, updated_vocab"
   ]
  },
  {
   "cell_type": "markdown",
   "metadata": {},
   "source": [
    "Let us merge now the most common pair of bytes and create one id out of it. The successive 101,32 will be turned into 256."
   ]
  },
  {
   "cell_type": "code",
   "execution_count": 137,
   "metadata": {},
   "outputs": [],
   "source": [
    "updated_corpus_ex, updated_vocab_example = merge_and_update_corpus_and_vocab(\n",
    "    encoded_corpus, \n",
    "    vocab,\n",
    "    get_most_common_pair(encoded_corpus)    \n",
    ")"
   ]
  },
  {
   "cell_type": "markdown",
   "metadata": {},
   "source": [
    "We can see the presence of a new token id in the corpus: `256`"
   ]
  },
  {
   "cell_type": "code",
   "execution_count": 139,
   "metadata": {},
   "outputs": [
    {
     "name": "stdout",
     "output_type": "stream",
     "text": [
      "[256, 108, 108, 111, 32, 256, 108, 108, 111, 32]\n"
     ]
    }
   ],
   "source": [
    "print(updated_corpus_ex[:10])"
   ]
  },
  {
   "cell_type": "markdown",
   "metadata": {},
   "source": [
    "When we check the vocab to see to what it corresponds, we see that it's a merge of two ids: `72` and `101`."
   ]
  },
  {
   "cell_type": "code",
   "execution_count": 140,
   "metadata": {},
   "outputs": [
    {
     "name": "stdout",
     "output_type": "stream",
     "text": [
      "(72, 101)\n"
     ]
    }
   ],
   "source": [
    "print(updated_vocab_example[256])"
   ]
  },
  {
   "cell_type": "markdown",
   "metadata": {},
   "source": [
    "We've seen how merging works. Now, we have to apply this merging a `number_of_merges` times. What you should keep in mind is the following:\n",
    "- You vocab will grow with the number of merges you apply. Say you apply 10 merges, your vocab will go from 256 ids to 266 ids.\n",
    "- The bigger your vocab gets, the bigger your embedding table (whose size corresponds to number of tokens in the vocab * size of embedding) will grow.\n",
    "- Merging indefinitly is not a good idea. The different ids in your vocab will not come up often as tokens in the training corpus of your model. Consequently, some tokens will have random embeddings\n",
    "- Having merged tokens allows you to make good use of your context size as your tokens will can even represent complete words at times\n"
   ]
  },
  {
   "cell_type": "code",
   "execution_count": 141,
   "metadata": {},
   "outputs": [],
   "source": [
    "def merge_iteratively(corpus, vocab, number_of_merges: int):\n",
    "    for _ in range(number_of_merges):\n",
    "        most_common_pair = get_most_common_pair(corpus)\n",
    "        corpus, vocab = merge_and_update_corpus_and_vocab(corpus, vocab, most_common_pair)\n",
    "    \n",
    "    return corpus, vocab"
   ]
  },
  {
   "cell_type": "code",
   "execution_count": 142,
   "metadata": {},
   "outputs": [
    {
     "name": "stdout",
     "output_type": "stream",
     "text": [
      "A glimpse at the start of new corpus: [258, 111, 32, 258, 111, 32, 258, 111, 32, 109]\n",
      "The merged ids: [(72, 101), (256, 108), (257, 108)]\n"
     ]
    }
   ],
   "source": [
    "three_merges_corpus, three_merges_vocab = merge_iteratively(encoded_corpus, vocab, 3)\n",
    "\n",
    "print(f\"A glimpse at the start of new corpus: {three_merges_corpus[:10]}\")\n",
    "\n",
    "print(f\"The merged ids: {[three_merges_vocab[255 + x] for x in range(1, 4)]}\")"
   ]
  },
  {
   "cell_type": "markdown",
   "metadata": {},
   "source": [
    "Now, the `merge_iteratively` function if it's out of pairs that occur more than once, it will start merging pairs that occur only once. This is not a desired behavior.\n",
    "\n",
    "This can be handled easily by returning the count of the number of occurences as well in `get_most_common_pair` and checking that it's greater than 1 to proceed to merging."
   ]
  },
  {
   "cell_type": "code",
   "execution_count": 143,
   "metadata": {},
   "outputs": [],
   "source": [
    "def get_most_common_pair(encoded_corpus: list[int]) -> tuple:\n",
    "    \"\"\"Returns a tuple:\n",
    "    - A tuple of the most common pair of ids in a corpus\n",
    "    - The number of occurences of the pair of ids\n",
    "    \"\"\"\n",
    "    most_common_pair_and_count = Counter(zip(encoded_corpus[:-2], encoded_corpus[1:])).most_common(1)[0]\n",
    "    return most_common_pair_and_count"
   ]
  },
  {
   "cell_type": "code",
   "execution_count": 144,
   "metadata": {},
   "outputs": [],
   "source": [
    "def merge_iteratively(corpus, vocab, number_of_merges: int):\n",
    "    for _ in range(number_of_merges):\n",
    "        most_common_pair, count = get_most_common_pair(corpus)\n",
    "        if count == 1:\n",
    "            break\n",
    "        else:\n",
    "            corpus, vocab = merge_and_update_corpus_and_vocab(corpus, vocab, most_common_pair)\n",
    "    \n",
    "    return corpus, vocab"
   ]
  },
  {
   "cell_type": "markdown",
   "metadata": {},
   "source": [
    "Let put all these functions in one function that should do the encoding of a string"
   ]
  },
  {
   "cell_type": "code",
   "execution_count": 219,
   "metadata": {},
   "outputs": [],
   "source": [
    "def encode(corpus: str, num_merges: int):\n",
    "    encoded_corpus = corpus.encode(\"UTF-8\")\n",
    "    base_vocab = {i:i for i in range(256)}\n",
    "    updated_corpus, updated_vocab = merge_iteratively(encoded_corpus, base_vocab, num_merges)\n",
    "    return updated_corpus, updated_vocab"
   ]
  },
  {
   "cell_type": "markdown",
   "metadata": {},
   "source": [
    "Now that we can train a tokenizer and encode a string, all that's left is decoding."
   ]
  },
  {
   "cell_type": "markdown",
   "metadata": {},
   "source": [
    "#### <a id='toc1_3_3_2_'></a>[Decoding](#toc0_)"
   ]
  },
  {
   "cell_type": "markdown",
   "metadata": {},
   "source": [
    "Now, to detokenize tokenized text, it's not that hard\n",
    "- First, you have to reverse the mapping. You have to unpair the ids. If for example, the id 257=(100,256) and 256=(255, 20), we have to unpair those. But in order for the unpairing to work, we have to unpair the ids starting from the highest id, 257 in this case.\n",
    "257 will be replaced with (100 and 256) and then 256 can be replaced with (255 and 20). If you don't do it in the right order, you'll have some composed ids left and you won't be able to decode them.\n",
    "- Once the mapping is reversed, you can decode the stream of bytes using UTF-8"
   ]
  },
  {
   "cell_type": "code",
   "execution_count": null,
   "metadata": {},
   "outputs": [],
   "source": [
    "three_merges_corpus, three_merges_vocab = encode(corpus, 3)"
   ]
  },
  {
   "cell_type": "markdown",
   "metadata": {},
   "source": [
    "Let us first build a function that will help us get the pair of ids that were replaced with a new id"
   ]
  },
  {
   "cell_type": "code",
   "execution_count": 187,
   "metadata": {},
   "outputs": [],
   "source": [
    "def unpair_ids(corpus, vocab):\n",
    "    \"\"\"Reverses new ids in the vocab to their\n",
    "    orignal pair of ids.\n",
    "    \"\"\"\n",
    "    for token in sorted(vocab.keys(), reverse=True):\n",
    "        if token > 255:\n",
    "            unpaired_corpus = []\n",
    "            for i in range(len(corpus)):\n",
    "                if corpus[i] == token:\n",
    "                    unpaired_corpus.append(vocab[token][0])\n",
    "                    unpaired_corpus.append(vocab[token][1])\n",
    "                else:\n",
    "                    unpaired_corpus.append(corpus[i])\n",
    "                \n",
    "            corpus = list(unpaired_corpus)\n",
    "    \n",
    "    return unpaired_corpus\n"
   ]
  },
  {
   "cell_type": "code",
   "execution_count": 191,
   "metadata": {},
   "outputs": [
    {
     "name": "stdout",
     "output_type": "stream",
     "text": [
      "The first ten tokens of the tokenized corpus looks like: [258, 111, 32, 258, 111, 32, 258, 111, 32, 109]\n",
      "The first ten tokens of the unpaired corpus looks like: [72, 101, 108, 108, 111, 32, 72, 101, 108, 108, 111, 32, 72, 101, 108, 108, 111, 32, 109]\n"
     ]
    }
   ],
   "source": [
    "print(f\"The first ten tokens of the tokenized corpus looks like: {three_merges_corpus[:10]}\")\n",
    "print(f\"The first ten tokens of the unpaired corpus looks as follows: {unpair_ids(three_merges_corpus[:10], three_merges_vocab)}\")"
   ]
  },
  {
   "cell_type": "markdown",
   "metadata": {},
   "source": [
    "Now that we recovered the corpus with the bytes ids, we can do the UTF-8 decoding:"
   ]
  },
  {
   "cell_type": "code",
   "execution_count": 201,
   "metadata": {},
   "outputs": [],
   "source": [
    "def decode(tokenized_corpus_with_merges, vocab_with_merges):\n",
    "    unpaired_tokenized_corpus = unpair_ids(tokenized_corpus_with_merges, vocab_with_merges)\n",
    "    # The UTF-8 decoding expects byte objects and not int, we have to convert them to byte first\n",
    "    decoded_corpus = b\"\".join([x.to_bytes() for x in unpaired_tokenized_corpus]).decode(\"UTF-8\")\n",
    "    return decoded_corpus"
   ]
  },
  {
   "cell_type": "code",
   "execution_count": 206,
   "metadata": {},
   "outputs": [
    {
     "name": "stdout",
     "output_type": "stream",
     "text": [
      "The decoding of the corpus yields: Hello Hello Hello my name is Safouane and I am the author of this post\n",
      "Check of equality with the original corpus: True\n"
     ]
    }
   ],
   "source": [
    "decoded_corpus = decode(three_merges_corpus, three_merges_vocab)\n",
    "print(f\"The decoding of the corpus yields: {decoded_corpus}\")\n",
    "print(f\"Check of equality with the original corpus: {decoded_corpus == corpus}\")"
   ]
  },
  {
   "cell_type": "markdown",
   "metadata": {},
   "source": [
    "#### <a id='toc1_3_3_3_'></a>[One last problem to solve](#toc0_)"
   ]
  },
  {
   "cell_type": "markdown",
   "metadata": {},
   "source": [
    "When encoding, we get to add new ids as tokens and we just incremented with 1 each time. Now, remember this table from wikipedia:\n",
    "\n",
    "<p align=\"center\">\n",
    "    <img src=\"https://github.com/chsafouane/chsafouane.github.io/blob/master/images/2024-07-07-Byte_Pair_Encoding_Tokenization/utf8_table.png?raw=true\" alt=\"image.png\">\n",
    "</p>\n"
   ]
  },
  {
   "cell_type": "markdown",
   "metadata": {},
   "source": [
    "What this table entails is that not all bytes are valid UTF-8 encodings. For example, any 1-byte number starting with 1 its binary representation is not a valid UTF-8 encoding. The number `10000000` (which corresponds to 128 in the decimal representation) is not a valid UTF-8 encoding.\n",
    "\n",
    "Let us check what Python will say if we try to decode it using UTF-8"
   ]
  },
  {
   "cell_type": "code",
   "execution_count": 215,
   "metadata": {},
   "outputs": [
    {
     "ename": "UnicodeDecodeError",
     "evalue": "'utf-8' codec can't decode byte 0x80 in position 0: invalid start byte",
     "output_type": "error",
     "traceback": [
      "\u001b[0;31m---------------------------------------------------------------------------\u001b[0m",
      "\u001b[0;31mUnicodeDecodeError\u001b[0m                        Traceback (most recent call last)",
      "Cell \u001b[0;32mIn[215], line 5\u001b[0m\n\u001b[1;32m      2\u001b[0m example_byte \u001b[38;5;241m=\u001b[39m \u001b[38;5;241m0b10000000\u001b[39m\u001b[38;5;241m.\u001b[39mto_bytes()\n\u001b[1;32m      4\u001b[0m \u001b[38;5;66;03m# Decode it using UTF-8\u001b[39;00m\n\u001b[0;32m----> 5\u001b[0m example_byte\u001b[38;5;241m.\u001b[39mdecode(\u001b[38;5;124m\"\u001b[39m\u001b[38;5;124mUTF-8\u001b[39m\u001b[38;5;124m\"\u001b[39m)\n",
      "\u001b[0;31mUnicodeDecodeError\u001b[0m: 'utf-8' codec can't decode byte 0x80 in position 0: invalid start byte"
     ]
    }
   ],
   "source": [
    "# Convert the int to a bytes object\n",
    "example_byte = 0b10000000.to_bytes()\n",
    "\n",
    "# Decode it using UTF-8\n",
    "example_byte.decode(\"UTF-8\")"
   ]
  },
  {
   "cell_type": "markdown",
   "metadata": {},
   "source": [
    "The error says `invalid start byte`, can't be any clearer !"
   ]
  },
  {
   "cell_type": "markdown",
   "metadata": {},
   "source": [
    "Now, what should we do if we encounter such integers in our encoded corpus ? The way this is circumvented in GPT-4 tokenizer for example is by decoding that integer into a specific character `�`.\n",
    "This is the default value that any invalid integer is decoded into with `decode` method using UTF-8 encoding in Python."
   ]
  },
  {
   "cell_type": "code",
   "execution_count": 217,
   "metadata": {},
   "outputs": [
    {
     "data": {
      "text/plain": [
       "'�'"
      ]
     },
     "execution_count": 217,
     "metadata": {},
     "output_type": "execute_result"
    }
   ],
   "source": [
    "example_byte.decode(\"UTF-8\", errors=\"replace\")"
   ]
  },
  {
   "cell_type": "markdown",
   "metadata": {},
   "source": [
    "#### <a id='toc1_3_3_4_'></a>[One final example](#toc0_)"
   ]
  },
  {
   "cell_type": "markdown",
   "metadata": {},
   "source": [
    "As an example of our training corpus, we'll take the description in english, french and arabic of `1337`, one of the leading IT schools in the world that is located in Morocco. This description will constitute our corpus that we'll use to train our tokenizer."
   ]
  },
  {
   "cell_type": "code",
   "execution_count": 236,
   "metadata": {},
   "outputs": [],
   "source": [
    "input_string = \"\"\"1337 is the first to provide IT training in Morocco, completely free of charge, open and accessible to anyone between the ages of 18 and 30. No need for an IT degree, or of having undergone extensive IT training. The only criteria for admission in Treize, Trente-Sept is CREATIVITY.\n",
    "\n",
    "The Treize, Trente-Sept educational approach is based on peer-learning. A participatory operating style allowing students to unleash their creativity through project-based learning. To train the future coders of tomorrow, we had to rethink learning. We had to make IT something fun, exciting and at odds with the restrictive vision that the general public may have about it.\n",
    "\n",
    "1337 is the coding school par excellence, completely free of charge and accessible to all with no prerequisite of a degree. It offers a full immersion in a universe where the future is already present. Where IT and the lines of code are way more than a vague and off-putting concept…\n",
    "\n",
    "Treize, Trente-Sept, a forward-looking school from the present.\n",
    "1337, c’est la première formation en informatique par excellence au Maroc, entièrement gratuite, ouverte 24h/24 7j/7 et accessible à tous sans pré-requis de diplôme, ou de connaissance en informatique.. C’est une immersion complète dans un univers où le futur est déjà présent, où l’informatique et les lignes de codes sont plus qu’un concept flou et rébarbatif…\n",
    "\n",
    "La pédagogie de Treize, Trente-Sept s’articule autour du peer-learning. Un fonctionnement participatif qui permet aux étudiants de libérer leur créativité grâce à l’apprentissage par projet. Pour former les futurs codeurs de demain, il fallait repenser l’apprentissage, faire de l’informatique quelque chose de ludique, de passionnant et aux antipodes de la vision restrictive que le grand public peut en avoir.\n",
    "\n",
    "Treize, Trente-Sept utilise les méthodes techniques et pédagogiques de 42 Paris, élue meilleure école de code au monde par CodinGame.\n",
    "\n",
    "Treize, Trente-Sept, une école du présent tournée vers le futur.\n",
    "1337 هي أول تكوين معلوماتي فالمغرب، كلو بالمجان، مفتوح للجميع اللي تيتراوح عمرهم بين 18 و30 سنة. ما محتاجش يكون عندك دبلوم فالمعلوميات، أو تكون درتي شي تكوين أو تخصص فالمعلوميات. المفتاح الوحيد اللي كيتيح لك باب الدخول ل 1337 هو الإبداع.\n",
    "\n",
    "البيداغوجية ديال 1337 كتعتمد على peer-learning اللي هو نوع من التعلم التعاوني اللي كيساعد الطلبة على تحرير الإبداع ديالهم بفضل التعلم بإنجاز المشاريع. وباش نكوّنو مبرمجي الغد، اللي كيكوديو، كان لازم نراجعو طريقة التعلم، ونجعلو تعلم المعلوميات عملية ترفيهية، فيها الرغبة والشغف، ماشي كيف كيتخيلوها الناس.\n",
    "\n",
    "1337 هي مدرسة الكود بامتياز، مجانية وفمتناول الجميع, وما تتطلبش منك تكون حائز على دبلوم. وتعتبر اندماج كامل، فعالم مستقبلي اللي ما بقاش فيه الكود مفهوم غامض.\n",
    "\n",
    "1337 مدرسة الحاضر المتطلعة للمستقبل.\n",
    "\"\"\""
   ]
  },
  {
   "cell_type": "code",
   "execution_count": 237,
   "metadata": {},
   "outputs": [],
   "source": [
    "encoded_merged_input, updated_vocab = encode(input_string, 20)"
   ]
  },
  {
   "cell_type": "markdown",
   "metadata": {},
   "source": [
    "The added ids to the corpus are the following:"
   ]
  },
  {
   "cell_type": "code",
   "execution_count": 238,
   "metadata": {},
   "outputs": [
    {
     "name": "stdout",
     "output_type": "stream",
     "text": [
      "{256: (101, 32), 257: (217, 132), 258: (216, 167), 259: (217, 133), 260: (217, 138), 261: (217, 136), 262: (32, 216), 263: (258, 257), 264: (114, 101), 265: (115, 32), 266: (105, 110), 267: (116, 32), 268: (32, 263), 269: (216, 170), 270: (44, 32), 271: (217, 134), 272: (216, 185), 273: (116, 105), 274: (217, 131), 275: (101, 114)}\n"
     ]
    }
   ],
   "source": [
    "print({x:updated_vocab.get(x) for x in range(256, max(updated_vocab.keys()) + 1)})"
   ]
  },
  {
   "cell_type": "code",
   "execution_count": 239,
   "metadata": {},
   "outputs": [],
   "source": [
    "decoded_corpus = decode(encoded_merged_input, updated_vocab)"
   ]
  },
  {
   "cell_type": "markdown",
   "metadata": {},
   "source": [
    "Let us check the decoded corpus against the original corpus:"
   ]
  },
  {
   "cell_type": "code",
   "execution_count": 240,
   "metadata": {},
   "outputs": [
    {
     "data": {
      "text/plain": [
       "True"
      ]
     },
     "execution_count": 240,
     "metadata": {},
     "output_type": "execute_result"
    }
   ],
   "source": [
    "decoded_corpus == corpus"
   ]
  },
  {
   "cell_type": "markdown",
   "metadata": {},
   "source": [
    "While in this case the result of the decoding process yields the same result as the original, you shouldn't always expect it to be the case. If during the decoding process, we encounter an id (like 128) that we can't decode using UTF-8, it will get replaced with `�` in the current implementation. The comparison of the decoding result with the original text won't yield equality."
   ]
  }
 ],
 "metadata": {
  "kernelspec": {
   "display_name": "blog_env",
   "language": "python",
   "name": "python3"
  },
  "language_info": {
   "codemirror_mode": {
    "name": "ipython",
    "version": 3
   },
   "file_extension": ".py",
   "mimetype": "text/x-python",
   "name": "python",
   "nbconvert_exporter": "python",
   "pygments_lexer": "ipython3",
   "version": "3.11.9"
  }
 },
 "nbformat": 4,
 "nbformat_minor": 2
}
