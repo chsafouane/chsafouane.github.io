{
 "cells": [
  {
   "cell_type": "markdown",
   "id": "b2dad165",
   "metadata": {
    "vscode": {
     "languageId": "plaintext"
    }
   },
   "source": [
    "---\n",
    "title: \"Why I ditched pip & conda for Pixi\"\n",
    "author: \"Safouane Chergui\"\n",
    "date: \"2025-07-05\"\n",
    "categories: [Python, Package management]\n",
    "---"
   ]
  },
  {
   "cell_type": "markdown",
   "id": "a7dec17a",
   "metadata": {},
   "source": [
    "I've been using pip and then conda for as long as I can remember. Last year, I did a double-switch. First, I moved to `uv` and then not long after it I moved to `pixi`."
   ]
  },
  {
   "cell_type": "markdown",
   "id": "75a1943e",
   "metadata": {},
   "source": [
    "I discovered `pixi` thanks to Eric Ma [blog post](https://ericmjl.github.io/blog/2024/8/16/its-time-to-try-out-pixi/). At the time, the thing that caught my attention the most is how easy it is to manage the installation of the same environment but one with CUDA support and the other without.\n",
    "\n",
    "After months of using `pixi` now, I can say that the 3 things I like the most about `pixi` are:\n",
    "- The features concept that allows to mix and match packages to create environments\n",
    "- Being able to run tasks\n",
    "- How fast it is!\n",
    "\n",
    "We'll take a look at all of this in this blog. The final version of the code generated in this blog is available in [this repository](https://github.com/chsafouane/pixi_tut_chsafouane_github_io)."
   ]
  },
  {
   "cell_type": "markdown",
   "id": "d70553ad",
   "metadata": {},
   "source": [
    "# What is pixi ?\n",
    "\n",
    "<p align=\"center\">\n",
    "    <img src=\"assets/pixi.webp\" width=\"50%\">\n",
    "</p>\n",
    "\n",
    "## Pixi's toolset\n",
    "\n",
    "Now, Pixi is many things but I'll focus on the things that will be of use to you as a python developer\n",
    "\n",
    "\n",
    "- Pixi is a package manager that can manage packages from both Conda & PyPI. The dependency resolution tools used by Pixi (`resolvo` for conda & uv resolution tool for PyPI packages) are very fast.\n",
    "- Pixi manages environments (similar to `venv` for `pip` users, a feature that is built into `conda`)\n",
    "- Pixi manages `python` version as well (similar to `pyenv` if you use `pip`, built into `conda`)\n",
    "- Pixi has a lock file that allows you to reproduce excatly the same environment (similar to what you'd get `conda-lock` or `pip-lock`)\n",
    "- Pixi can be used as a task-runner, just like `make` or `just`.\n",
    "- Pixi has built-in cross-platform reproducibility. The lock file includes the exact versions and dependencies in all targeted platforms. You can pick and choose the targeted platform by your project (Linux, Windows, etc).\n",
    "- Pixi can also install tools like `brew` and you can have access to the globally.\n",
    "\n",
    "Now, while `mamba` is fast, in my experience, `pixi` is faster. `mamba` also lacks lock-files that are essential for reproducibility and a task runner that comes very handy in many situations (CI/CD, Other people running your project, etc.)\n",
    "\n",
    "## Pixi's project philosophy\n",
    "\n",
    "While `conda` is environment-centric, `pixi` is all about projects. When you init a pixi project, it will create a `pixi.toml` (or a `pyproject.toml` instead if you want). In this file, you can specify many environments that can be composed of different features. For example, you can have:\n",
    "- a base feature that includes the basic packages needed by your project\n",
    "- a run feature that consists of packages needed for only running the project\n",
    "- a test feature that consists of additional packages needed for testing the project\n",
    "- a build feature that consists of additional packages or tools needed for building the project. \n",
    "\n",
    "Imagine having to train a model on a GPU but then when running it, to only have a CPU at your disposal. What you would do is have:\n",
    "- A training environment composed of the features `base` + `build` + `test` that will include the base packages, some CUDA dependencies and pytorch with GPU support coming from the build feature, and test packages like `pytest` coming from the test feature.\n",
    "- A CI/CD environment composed of `base` + `run` + `test`. The only difference this time is that you'll be using the run feature that include `pytorch-cpu` and no CUDA dependencies.\n",
    "- A run environment composed only of `base` + `run` features.\n",
    "\n",
    "The other nice thing is that you can say that you can enforce that some environments (or all of them) use the same versions of the common packages."
   ]
  },
  {
   "cell_type": "markdown",
   "id": "d78262d8",
   "metadata": {},
   "source": [
    "# Your first project with `pixi`"
   ]
  },
  {
   "cell_type": "markdown",
   "id": "cdea0b9c",
   "metadata": {},
   "source": [
    "## Installation\n",
    "\n",
    "Start first by installing `pixi` by grabbing the one command-line that corresponds to your case from here: [Pixi installation](https://pixi.sh/latest/installation). \n",
    "\n",
    "It's really just one command, restart your terminal and there you go."
   ]
  },
  {
   "cell_type": "markdown",
   "id": "514fa28b",
   "metadata": {},
   "source": [
    "## Getting hands-on"
   ]
  },
  {
   "cell_type": "markdown",
   "id": "45211b02",
   "metadata": {},
   "source": [
    "### Initiating the project"
   ]
  },
  {
   "cell_type": "markdown",
   "id": "fc4d517c",
   "metadata": {},
   "source": [
    "We'll work through an example where we'd like to develop a FastAPI app.\n",
    "\n",
    "Let us initiate a pixi project:\n",
    "\n",
    "```bash\n",
    "pixi init fastapi_app --format pyproject\n",
    "cd fastapi_app\n",
    "```\n",
    "\n",
    "If you already have an existing folder, you can simply go inside of it and execute\n",
    "\n",
    "```bash\n",
    "pixi init --format pyproject\n",
    "```\n",
    "\n",
    "By default, pixi uses a `pixi.toml` file for its configuration. As people in python use `pyproject.toml`, you can specify that you want to use the latter with the `--format pyproject`."
   ]
  },
  {
   "cell_type": "markdown",
   "id": "a0b021c9",
   "metadata": {},
   "source": [
    "The initiation of the project creates the following files:\n",
    "\n",
    "<p align=\"center\">\n",
    "    <img src=\"assets/pixi_init_structure.png\" alt=\"pixi init structure\">\n",
    "</p>"
   ]
  },
  {
   "cell_type": "markdown",
   "id": "a40436dc",
   "metadata": {},
   "source": [
    "If you look at the content of the `pyproject.toml`, you'll see different sections:\n",
    "\n",
    "```toml\n",
    "[project]\n",
    "authors = [{name = \"Safouane Chergui\", email = \"chsafouane@gmail.com\"}]\n",
    "name = \"fastapi_app\"\n",
    "requires-python = \">= 3.11\"\n",
    "version = \"0.1.0\"\n",
    "dependencies = [ \"fastapi>=0.115.14,<0.116\", \"uvicorn[standard]>=0.35.0,<0.36\"]\n",
    "\n",
    "[build-system]\n",
    "build-backend = \"hatchling.build\"\n",
    "requires = [\"hatchling\"]\n",
    "\n",
    "[tool.pixi.workspace]\n",
    "channels = [\"conda-forge\"]\n",
    "platforms = [\"win-64\"]\n",
    "\n",
    "[tool.pixi.pypi-dependencies]\n",
    "fastapi_app = { path = \".\", editable = true }\n",
    "\n",
    "[tool.pixi.tasks]\n",
    "```"
   ]
  },
  {
   "cell_type": "markdown",
   "id": "958c0528",
   "metadata": {},
   "source": [
    "Let us dive into the most important fields:\n",
    "\n",
    "**The `[project]` section** includes project metadata.\n",
    "- As we haven't added a specific python interpreter to the project, the `requires-python` entry shows the currently active python interpreter in the terminal. You can change it manually if you want.\n",
    "\n",
    "**The `[tool.pixi.workspace]` section**  has two entries:\n",
    "- The `channels` shows the conda channels that can be used to download the conda packages.If you have a company repository (like `nexus`), it can be used instead or added before conda-forge to be used first.\n",
    "- The `platforms` corresponds to the platform you're using. You can add other platforms here and the `pixi.lock` will include the packages that need to be installed to reproduce the exact environment in the case of the additional platforms.\n",
    "\n",
    "**The `[tool.pixi.pypi-dependencies]` section** is used to specify the packages to install from PyPI. By default, the code you're developping shows up as an editable package. Your code will be installed in editable mode and you'll be able to see the changes you make to your code directly reflected in your environment.\n",
    "\n",
    "**The `[tool.pixi.tasks]` section** is empty for the time-being. You can imagine tasks as a replacement of makefiles. We'll add some tasks later in the blog post."
   ]
  },
  {
   "cell_type": "markdown",
   "id": "3302bb19",
   "metadata": {},
   "source": [
    "### Adding dependencies"
   ]
  },
  {
   "cell_type": "markdown",
   "id": "c7c33256",
   "metadata": {},
   "source": [
    "Let us add python 3.12 to the project\n",
    "\n",
    "```bash\n",
    "pixi add python=3.12\n",
    "``` \n",
    "\n",
    "As we're going to create a FastAPI app, let us add fastapi and uvicorn but this time from PyPI.\n",
    "\n",
    "```bash\n",
    "pixi add --pypi fastapi \"uvicorn[standard]\"\n",
    "```"
   ]
  },
  {
   "cell_type": "markdown",
   "id": "5821999d",
   "metadata": {},
   "source": [
    "Now that we have proceeded with adding these dependencies, we can see that we have a `pixi.lock` file that was created.\n",
    "\n",
    "<p align=\"center\">\n",
    "    <img src=\"assets/pixi_first_installation.png\" alt=\"pixi structure after first installation\">\n",
    "</p>\n",
    "\n",
    "\n",
    "\n",
    "The `pyproject.toml` file is now updated to include the new dependencies:\n",
    "\n",
    "```toml\n",
    "[project]\n",
    "authors = [{name = \"Safouane Chergui\", email = \"chsafouane@gmail.com\"}]\n",
    "name = \"fastapi_app\"\n",
    "requires-python = \">= 3.11\"\n",
    "version = \"0.1.0\"\n",
    "dependencies = [ \"fastapi>=0.115.14,<0.116\", \"uvicorn[standard]>=0.35.0,<0.36\"]\n",
    "\n",
    "[build-system]\n",
    "build-backend = \"hatchling.build\"\n",
    "requires = [\"hatchling\"]\n",
    "\n",
    "[tool.pixi.workspace]\n",
    "channels = [\"conda-forge\"]\n",
    "platforms = [\"win-64\"]\n",
    "\n",
    "[tool.pixi.pypi-dependencies]\n",
    "fastapi_app = { path = \".\", editable = true }\n",
    "\n",
    "[tool.pixi.tasks]\n",
    "\n",
    "[tool.pixi.dependencies]\n",
    "python = \"3.12.*\"\n",
    "```"
   ]
  },
  {
   "cell_type": "markdown",
   "id": "09796ea5",
   "metadata": {},
   "source": [
    "#### Pinning strategy\n",
    "\n",
    "The thing that bothered me the most when I started with `pixi` is that the pinning of the packages. By default, `pixi` will use a very strict pinning strategy as you can see with fastapi for example: `\"fastapi>=0.115.14,<0.116\"`, even if the user didn't specify a version when adding fastapi.\n",
    "\n",
    "If later you'd like to install a package that is not compatible with the pinned version of fastapi (even though you don't care about the specific minor version of fastapi shown in the pyproject.toml, or the upper bound constraint), you'll get an error, and this was frustrating.\n",
    "\n",
    "`pixi` developers explain why [they chose this strategy](https://prefix.dev/blog/the_python_packaging_debate) and discuss the matter at length in this [GitHub issue](https://github.com/prefix-dev/pixi/issues/639).\n",
    "\n",
    "Nonetheless, you can override the pinning strategy by using the [pinning-strategy](https://pixi.sh/v0.49.0/reference/pixi_configuration/#pinning-strategy) configuration but we'll look at pixi's config file later."
   ]
  },
  {
   "cell_type": "markdown",
   "id": "77cf4b5a",
   "metadata": {},
   "source": [
    "### Managing environments with features "
   ]
  },
  {
   "cell_type": "markdown",
   "id": "4fbff8cc",
   "metadata": {},
   "source": [
    "One of pixi's amazing features is being able to manage different sets of dependencies for different purposes (like the example for the run, build, test, etc above) using `features`. A `feature` (also called a `dependency group` is just a named set of dependencies).\n",
    "\n",
    "By default, when adding packages, pixi will automatically add packages to the standard group of dependencies. You can add packages to a specific feature by using the `--feature` flag.\n",
    "\n",
    "Let's say that our core dependencies that are needed for running the app are `fastapi` and `uvicorn`.\n",
    "Let us add two families of dependencies (two features):\n",
    "- A `test` feature that will include `pytest` & `pytest-cov`\n",
    "\n",
    "```bash\n",
    "pixi add --feature test pytest pytest-cov\n",
    "```\n",
    "\n",
    "- A `dev` feature that will include packages needed for development like `ruff`\n",
    "\n",
    "```bash\n",
    "pixi add --feature dev ruff\n",
    "```\n",
    "\n",
    "When you'll add this second feature, you'll get a warning saying that the test feature was added but is not used by any environment and that is ok as we're going to do it just after.\n",
    "\n",
    "Now, if you look at the `pyproject.toml` file, you'll see that the dependencies are now grouped by features:\n",
    "\n",
    "```toml\n",
    "[project]\n",
    "authors = [{name = \"Safouane Chergui\", email = \"chsafouane@gmail.com\"}]\n",
    "name = \"fastapi_app\"\n",
    "requires-python = \">= 3.11\"\n",
    "version = \"0.1.0\"\n",
    "dependencies = [ \"fastapi>=0.115.14,<0.116\", \"uvicorn[standard]>=0.35.0,<0.36\"]\n",
    "\n",
    "[build-system]\n",
    "build-backend = \"hatchling.build\"\n",
    "requires = [\"hatchling\"]\n",
    "\n",
    "[tool.pixi.workspace]\n",
    "channels = [\"conda-forge\"]\n",
    "platforms = [\"win-64\"]\n",
    "\n",
    "[tool.pixi.pypi-dependencies]\n",
    "fastapi_app = { path = \".\", editable = true }\n",
    "\n",
    "[tool.pixi.tasks]\n",
    "\n",
    "[tool.pixi.dependencies]\n",
    "python = \"3.12.*\"\n",
    "\n",
    "[tool.pixi.feature.test.dependencies]\n",
    "pytest = \"*\"\n",
    "pytest-cov = \"*\"\n",
    "\n",
    "[tool.pixi.feature.dev.dependencies]\n",
    "ruff = \"*\"\n",
    "```"
   ]
  },
  {
   "cell_type": "markdown",
   "id": "68bff454",
   "metadata": {},
   "source": [
    "#### Creating environments from dependency groups (features)\n",
    "\n",
    "In pixi, every environment is a collection of features (can be two features or more). The main project dependencies added without any feature like `fastapi` and `uvicorn` are added to an implicit default feature and to a default environment.\n",
    "If you execute\n",
    "```bash\n",
    " pixi project environment list\n",
    "```\n",
    "\n",
    "You'll see that the default environment is called `default` and it includes the default feature.\n",
    "\n",
    "```bash\n",
    "Environments:\n",
    "- default:\n",
    "    features: default\n",
    "```\n",
    "\n",
    "\n",
    "When you create a feature like `test`, pixi will create an environment from the default feature + the `test` feature, unless you explicitly say that you don't want to do so.\n",
    "This means, that by default, the `test` environment isn't composed of just the dependencies in the `test` feature but also the dependencies in the default feature:\n",
    "- All dependencies from the default feature (fastapi, uvicorn)\n",
    "- All dependencies from the `test` feature (pytest, pytest-cov)\n",
    "\n",
    "Before creating the environments, let us tackle one last thing: the `solve-groups`.\n",
    "\n",
    "Imagine having the default environment that includes `fastapi` and `uvicorn` and a `test` environment that includes additionally `pytest` and `pytest-cov`. When pixi will resolve the dependencies, the default environment can have different versions of fastapi and uvicorn than the test environment. To force pixi to group both environments together at the solve stage, you need to say that the test environment should be solved together with the default environment by using the `--solve-groups` flag.\n",
    "\n",
    "Here's the documentation definition of the `--solve-groups` flag:\n",
    "\n",
    "> solve-group: String: The solve group is used to group environments together at the solve stage. This is useful for environments that need to have the same dependencies but might extend them with additional dependencies. For instance when testing a production environment with additional test dependencies."
   ]
  },
  {
   "cell_type": "markdown",
   "id": "ee65ae3c",
   "metadata": {},
   "source": [
    "Let us create the environments now:\n",
    "\n",
    "**Test environment:**\n",
    "\n",
    "We're saying that we want to create a `test_env` environment that includes the `test` feature and that we want to solve it together with the default environment (the one that includes fastapi and uvicorn).\n",
    "\n",
    "```bash\n",
    "pixi project environment add fastapi-test-env --feature test --solve-group default\n",
    "```\n",
    "\n",
    "**Dev environment:**\n",
    "\n",
    "We're saying that we want to create a `test_env` environment that includes the `test` feature and that we want to solve it together with the default environment (the one that includes fastapi and uvicorn).\n",
    "\n",
    "```bash\n",
    "pixi project environment add fastapi-dev-env --feature test --feature dev --solve-group default\n",
    "```"
   ]
  },
  {
   "cell_type": "markdown",
   "id": "3885cbc9",
   "metadata": {},
   "source": [
    "Now, if you list the environments, you'll see that the `test_env` and `dev_env` are created and that they include the features we specified:\n",
    "\n",
    "```bash\n",
    "pixi project environment list\n",
    "\n",
    "\n",
    "Environments:\n",
    "- default:\n",
    "    features: default\n",
    "- fastapi-test-env:\n",
    "    features: test, default\n",
    "    solve_group: default\n",
    "- fastapi-dev-env:\n",
    "    features: test, dev, default\n",
    "    solve_group: default\n",
    "```"
   ]
  },
  {
   "cell_type": "markdown",
   "id": "c0cb5349",
   "metadata": {},
   "source": [
    "If you look at the `pyproject.toml` file, you'll see that you have a new section called `[tool.pixi.environments]` that includes the environments you created:\n",
    "\n",
    "```toml\n",
    "[tool.pixi.environments]\n",
    "fastapi-test-env = { features = [\"test\"], solve-group = \"default\" }\n",
    "fastapi-dev-env = { features = [\"test\", \"dev\"], solve-group = \"default\" }\n",
    "```"
   ]
  },
  {
   "cell_type": "markdown",
   "id": "5a0ee91c",
   "metadata": {},
   "source": [
    "All of this can be added manually instead to the pyproject.toml but it's error prone and the pixi CLI is honestly very handy."
   ]
  },
  {
   "cell_type": "markdown",
   "id": "0d2501a5",
   "metadata": {},
   "source": [
    "#### Environments installation"
   ]
  },
  {
   "cell_type": "markdown",
   "id": "35c59a77",
   "metadata": {},
   "source": [
    "Now, let us create the environments by first install the default environment\n",
    "\n",
    "```bash\n",
    "pixi install\n",
    "```\n",
    "\n",
    "You can also simply run `pixi shell` to install the default environment and open a shell in it.\n",
    "\n",
    "To install the dev environment, you can run:\n",
    "\n",
    "```bash\n",
    "pixi install fastapi-dev-env\n",
    "```\n",
    "\n",
    "You can also install all the environments at once using the flag `--all` to install:\n",
    "\n",
    "```bash\n",
    "pixi install --all\n",
    "```"
   ]
  },
  {
   "cell_type": "markdown",
   "id": "8fed9f85",
   "metadata": {},
   "source": [
    "Now you can any one of the environment inside the shell by running for example:\n",
    "```bash\n",
    "pixi shell fastapi-dev-env\n",
    "```\n",
    "\n",
    "We'll see how you can use them in vscode later."
   ]
  },
  {
   "cell_type": "markdown",
   "id": "4c61cfbb",
   "metadata": {},
   "source": [
    "# Tasks"
   ]
  },
  {
   "cell_type": "markdown",
   "id": "fe596a8b",
   "metadata": {},
   "source": [
    "`pixi` can be used as a task runner and thus would replace `make` or `just`. You can define tasks in the `pyproject.toml` file under the `[tool.pixi.tasks]` section.\n",
    "\n",
    "You can use the CLI to add the tasks but sometimes I find it easier to write the tasks manually in `pyproject.toml` specially if they are multiline tasks."
   ]
  },
  {
   "cell_type": "markdown",
   "id": "c6089d28",
   "metadata": {},
   "source": [
    "In the [repo](https://github.com/chsafouane/pixi_tut_chsafouane_github_io) provided with this tutorial, you'll find the files needed (`src/main.py`) to execute the tasks along with the tutorial."
   ]
  },
  {
   "cell_type": "markdown",
   "id": "97c29439",
   "metadata": {},
   "source": [
    "## Creating tasks"
   ]
  },
  {
   "cell_type": "markdown",
   "id": "12b08080",
   "metadata": {},
   "source": [
    "To create a task, you can use the `pixi task add` command and you'll have to specify two things:\n",
    "\n",
    "- The task name\n",
    "- The command to run\n",
    "\n",
    "Execute `pixi task add --help` to see the available options, as you can add for example environment variables or isolate the task from the shell when running (not having access to the shell variables for example) among other things.\n",
    "\n",
    "Let us create a task to start a uvicorn server with hot reloading. The task will have as a name **start**. The command will add the task to the `pyproject.toml` file under the `[tool.pixi.tasks]` section.\n",
    "\n",
    "```bash\n",
    "pixi task add start \"uvicorn my_app.main:app --reload --host 0.0.0.0\"\n",
    "```\n",
    "\n",
    "Let us also add a linting task that uses `ruff` \n",
    "\n",
    "```bash\n",
    "pixi task add lint \"ruff check src --fix\"\n",
    "```"
   ]
  },
  {
   "cell_type": "markdown",
   "id": "72d34d00",
   "metadata": {},
   "source": [
    "If you look now at the `pyproject.toml` file, you'll see that the tasks are added under the `[tool.pixi.tasks]` section:\n",
    "\n",
    "```toml\n",
    "[tool.pixi.tasks]\n",
    "start = \"uvicorn my_app.main:app --reload --host 0.0.0.0\"\n",
    "lint = { task = \"ruff check src --fix\", environment = \"fastapi-dev-env\" }\n",
    "```"
   ]
  },
  {
   "cell_type": "markdown",
   "id": "004212b0",
   "metadata": {},
   "source": [
    "To run the linting task in the dev environment, you can run:\n",
    "\n",
    "```bash\n",
    "pixi run -e fastapi-dev-env lint\n",
    "```\n",
    "\n",
    "You'll get the following output:\n",
    "\n",
    "```bash\n",
    "Pixi task (lint in fastapi-dev-env): ruff check src --fix\n",
    "All checks passed!\n",
    "```"
   ]
  },
  {
   "cell_type": "markdown",
   "id": "50cf819d",
   "metadata": {},
   "source": [
    "Now, you can specify in the pyproject.toml the default environment in which the task should run but I haven't found a way to do it through the CLI yet.\n",
    "\n",
    "\n",
    "```toml\n",
    "[tool.pixi.tasks]\n",
    "start = \"uvicorn my_app.main:app --reload --host 0.0.0.0\"\n",
    "lint = { task = \"ruff check src --fix\", environment = \"fastapi-dev-env\" }\n",
    "```"
   ]
  },
  {
   "cell_type": "markdown",
   "id": "9cf6f67a",
   "metadata": {},
   "source": [
    "As I can't go through everything you can do with tasks, I'll just list the things that I find useful but you can find more in the [pixi documentation](https://pixi.sh/latest/workspace/advanced_tasks/):\n",
    "- You can create a task that is composed of many tasks using the `dependes-on` field. that for example executes the linting task and then runs the app\n",
    "- You can create a tasks that runs the same task in multiple environments. If for example you'd like to test your code against multiple python versions, you can create a task that runs the same task in environments with different python versions (instead of using matrices of environments in CI/CD). Here an example from pixi's documentation:\n",
    "\n",
    "```toml\n",
    "# Task that depends on other tasks in different environments\n",
    "[tasks.test-all]\n",
    "depends-on = [\n",
    "  { task = \"test\", environment = \"py311\" },\n",
    "  { task = \"test\", environment = \"py312\" },\n",
    "]\n",
    "```\n",
    "\n",
    "- You can add environment variables or isolate the task when running from the shell (and thus not having access to the shell variables).\n",
    "- If a task depends on another task, you can cache the result of the first task and use it in the second task. Pixi won't rerun the first task after doing some verifications that can be found in the [documentation](https://pixi.sh/latest/workspace/advanced_tasks/#caching)."
   ]
  },
  {
   "cell_type": "markdown",
   "id": "08b330cb",
   "metadata": {},
   "source": [
    "# Pixi configuration"
   ]
  },
  {
   "cell_type": "markdown",
   "id": "c27c0ccd",
   "metadata": {},
   "source": [
    "## Why another config file ?"
   ]
  },
  {
   "cell_type": "markdown",
   "id": "13410f3f",
   "metadata": {},
   "source": [
    "The `pyproject.toml` (or the `pixi.toml`) file reprensents the configuration of the pixi project. It includes the project metadata, the dependencies, the environments, the tasks, etc.\n",
    "\n",
    "There is additional configuration that is not required for the project per say but in a way changes the behavior you would place in a `config.toml` file.\n",
    "\n",
    "You can set this config at one of three levels:\n",
    "- locally: in this case, the configuration will be stored `your_project/.pixi/config.toml` and will impact only the current project.\n",
    "- globally: in this case, the configuration will be stored in `$PIXI_HOME/config.toml` and will impact all the projects using pixi.\n",
    "- system-wide: in this case, the configuration will be stored in `/etc/pixi/config.toml` and will impact all the projects using pixi.\n",
    "\n",
    "You can also use the `pixi config set <some_config_key> <some_config_value>` command to set the configuration. While I will show you right away the keys that I find useful, you can find the full list of configuration keys as of version 0.49 that you can set:\n",
    "\n",
    "```bash\n",
    "  │ Supported keys:\n",
    "  │     default-channels,\n",
    "  │     authentication-override-file,\n",
    "  │     tls-no-verify,\n",
    "  │     mirrors,\n",
    "  │     detached-environments,\n",
    "  │     pinning-strategy,\n",
    "  │     max-concurrent-solves,\n",
    "  │     repodata-config,\n",
    "  │     repodata-config.disable-jlap,\n",
    "  │     repodata-config.disable-bzip2,\n",
    "  │     repodata-config.disable-zstd,\n",
    "  │     repodata-config.disable-sharded,\n",
    "  │     pypi-config,\n",
    "  │     pypi-config.index-url,\n",
    "  │     pypi-config.extra-index-urls,\n",
    "  │     pypi-config.keyring-provider,\n",
    "  │     shell,\n",
    "  │     shell.force-activate,\n",
    "  │     shell.source-completion-scripts,\n",
    "  │     shell.change-ps1,\n",
    "  │     s3-options,\n",
    "  │     s3-options.<bucket>,\n",
    "  │     s3-options.<bucket>.endpoint-url,\n",
    "  │     s3-options.<bucket>.region,\n",
    "  │     s3-options.<bucket>.force-path-style,\n",
    "  │     experimental.use-environment-activation-cache,\n",
    "  │     proxy-config,\n",
    "  │     proxy-config.https,\n",
    "  │     proxy-config.http,\n",
    "  │     proxy-config.non-proxy-hosts\n",
    "```"
   ]
  },
  {
   "cell_type": "markdown",
   "id": "eea0d68d",
   "metadata": {},
   "source": [
    "## Useful keys"
   ]
  },
  {
   "cell_type": "markdown",
   "id": "ab44452e",
   "metadata": {},
   "source": [
    "### Using private conda & PyPI repositories\n",
    "\n",
    "Some of my very security-oriented customers usually have their own conda and pip repositories (like `nexus`) and oblige everyone to use them as they only include packages that are approved by the security team.\n",
    "\n",
    "For this, I use `pypi-config.index-url` and `pypi-config.extra-index-urls` to specify the index URL and the extra index URLs to use for PyPI packages.\n",
    "\n",
    "```bash\n",
    "pixi config set pypi-config.index-url https://nexus.some_random_company.com/pypi/simple\n",
    "```\n",
    "\n",
    "Looking at the documentation, these can also be added to the `pyproject.toml` file under the `[tool.pixi.pypi-options]` section but I've never added them here.\n",
    "\n",
    "```toml\n",
    "[tool.pixi.pypi-options]\n",
    "# Public packages will be sourced from the official PyPI\n",
    "index-url = \"https://nexus.some_random_company.com/pypi/simple\"\n",
    "# Internal packages will be searched for here first\n",
    "extra-index-urls = [\"https://nexus.some_additional_random_company.com/pypi/simple\"]\n",
    "```\n",
    "For conda, I add the channels to the channels entry under the `[tool.pixi.workspace]` section in the `pyproject.toml` file:\n",
    "\n",
    "```toml\n",
    "[tool.pixi.workspace]\n",
    "channels = [\n",
    "    \"https://nexus.some_random_company.com/conda-forge\", \n",
    "    \"https://nexus.some_random_company_second.com/conda-forge\"\n",
    "]\n",
    "platforms = [\"win-64\"]\n",
    "```"
   ]
  },
  {
   "cell_type": "markdown",
   "id": "a4fc9d62",
   "metadata": {},
   "source": [
    "If you need to manage credentials for private repositories, you can check `pixi auth login`."
   ]
  },
  {
   "cell_type": "markdown",
   "id": "2fb578e3",
   "metadata": {},
   "source": [
    "### Pinning strategy\n",
    "\n",
    "The other key that I find useful is the `pinning-strategy` key. As I said before, by default, pixi uses a very strict pinning strategy that can be annoying at times. You can change it to one of the strategies listed in the [documentation](https://pixi.sh/dev/reference/pixi_configuration/#pinning-strategy).\n",
    "\n",
    "Personally, I like to pin to the major version using:\n",
    "\n",
    "```bash\n",
    "pixi config set pinning-strategy major\n",
    "```\n",
    "\n",
    "This might not be a very good practice as you can see [here](https://prefix.dev/blog/the_python_packaging_debate) but it works just fine for my needs."
   ]
  },
  {
   "cell_type": "markdown",
   "id": "9cc9940d",
   "metadata": {},
   "source": [
    "# Conclusion\n",
    "\n",
    "Well, that was quire a ride. I hope you enjoyed it and that you learned something new.\n",
    "\n",
    "My advice to you is to start using pixi in your personal projects. At first, there is going to be a slight learning curve but once you get used to it, you'll find it extremely fast and convenient to use.\n",
    "\n",
    "If you have any questions, feel free to reach out to me on [my linkedin](https://www.linkedin.com/in/chsafouane/)."
   ]
  }
 ],
 "metadata": {
  "language_info": {
   "name": "python"
  }
 },
 "nbformat": 4,
 "nbformat_minor": 5
}
