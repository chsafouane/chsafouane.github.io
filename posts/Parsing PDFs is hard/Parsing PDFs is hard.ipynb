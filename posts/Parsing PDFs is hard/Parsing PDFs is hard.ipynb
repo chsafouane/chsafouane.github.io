{
 "cells": [
  {
   "cell_type": "markdown",
   "id": "391fd365",
   "metadata": {
    "vscode": {
     "languageId": "plaintext"
    }
   },
   "source": [
    "---\n",
    "title: \"Parsing PDFs is hard\"\n",
    "author: \"Safouane Chergui\"\n",
    "date: \"2025-08-27\"\n",
    "format: html\n",
    "toc: true\n",
    "toc-location: body\n",
    "toc-depth: 4\n",
    "categories: [Python, PDF]\n",
    "---"
   ]
  },
  {
   "cell_type": "markdown",
   "id": "354cd50a",
   "metadata": {},
   "source": [
    "Lately, I've been working on a project with a customer where the goal is to extract some specific information from PDF documents. To my big surprise, this task has proven to be quite challenging.\n",
    "\n",
    "The main challenges stem from the following elements:\n",
    "- **Privacy concerns:** using an external API to parse the PDFs was a no-go as the PDFs contained sensitive information.\n",
    "- **Complexity of the documents:** the PDFs at hand contained a mix of text, complex tables, math formulas, all of which needed to be processed and understood in context.\n",
    "- **Absence of a clear structure:** the lack of consistent formatting and structure across the documents made it difficult to apply standard parsing across the board.\n",
    "\n",
    "<br><br><br>\n",
    "\n",
    "<div align=\"center\">\n",
    "<img src=\"./assets/pdf-icon.png\" alt=\"PDF icon\" width=\"25%\">\n",
    "</div>"
   ]
  },
  {
   "cell_type": "markdown",
   "id": "dc2db916",
   "metadata": {
    "vscode": {
     "languageId": "plaintext"
    }
   },
   "source": [
    "## What the hell is a PDF document ?"
   ]
  },
  {
   "cell_type": "markdown",
   "id": "49e03f4f",
   "metadata": {
    "vscode": {
     "languageId": "plaintext"
    }
   },
   "source": [
    "### A first glimpse at a PDF file internal structure\n",
    "\n",
    "Have you ever opened a PDF document with notepad or vscode instead of your preferred PDF reader ? If you do so , you'll stumble upon something that looks like this :\n",
    "\n",
    "<div align=\"center\">\n",
    "\n",
    "![PDF Internal Structure](./assets/example_pdf_start.png)\n",
    "\n",
    "*Figure 1: Internal structure of a PDF document when viewed as raw text*\n",
    "\n",
    "</div>\n",
    "\n",
    "If you'd like to see the full PDF internal structure, you can find the example PDF [here](https://gist.github.com/chsafouane/0079eb20531a0effb632e9aea7ddfabe?short_path=b320036)."
   ]
  },
  {
   "cell_type": "code",
   "execution_count": null,
   "id": "3b8462c7",
   "metadata": {
    "vscode": {
     "languageId": "plaintext"
    }
   },
   "outputs": [],
   "source": []
  },
  {
   "cell_type": "code",
   "execution_count": null,
   "id": "7a160e13",
   "metadata": {
    "vscode": {
     "languageId": "plaintext"
    }
   },
   "outputs": [],
   "source": []
  },
  {
   "cell_type": "markdown",
   "id": "55401f1d",
   "metadata": {},
   "source": [
    "graph TD\n",
    "    subgraph \"Start\"\n",
    "        A\n",
    "    end\n",
    "\n",
    "    subgraph \"Stage 1: Ingestion & Parsing\"\n",
    "        A --> B(PDF Backend);\n",
    "        B --> C;\n",
    "        B --> D;\n",
    "    end\n",
    "\n",
    "    subgraph \"Stage 2: AI-Powered Structural Understanding\"\n",
    "        D --> E{Layout Segmentation<br>(DocLayNet-trained Model)};\n",
    "        E --> F;\n",
    "        \n",
    "        subgraph \"Table Processing\"\n",
    "            F -- Table Detected --> G;\n",
    "            G --> H(Table Structure Recognition<br>TableFormer Model);\n",
    "            H --> I;\n",
    "            I & C --> J;\n",
    "        end\n",
    "\n",
    "        subgraph \"Text & Other Element Processing\"\n",
    "            F -- Text/List/Title Detected --> K;\n",
    "        end\n",
    "\n",
    "        subgraph \"Scanned Content Processing (Optional)\"\n",
    "            D --> L(OCR Engine<br>e.g., Tesseract, EasyOCR);\n",
    "            L --> M;\n",
    "        end\n",
    "    end\n",
    "\n",
    "    subgraph \"Stage 3: Assembly & Finalization\"\n",
    "        J --> N(Assembly Stage);\n",
    "        K --> N;\n",
    "        M --> N;\n",
    "        N --> O();\n",
    "    end\n",
    "\n",
    "    subgraph \"Stage 4: Export & RAG Integration\"\n",
    "        O --> P{Export or Integrate};\n",
    "        P --> Q;\n",
    "        P --> R(Structure-Aware Chunking);\n",
    "        R --> S;\n",
    "        S --> T((LLM for RAG Application));\n",
    "    end\n",
    "\n",
    "    style A fill:#f9f,stroke:#333,stroke-width:2px\n",
    "    style O fill:#bbf,stroke:#333,stroke-width:4px\n",
    "    style T fill:#9f9,stroke:#333,stroke-width:2px"
   ]
  },
  {
   "cell_type": "markdown",
   "id": "55ec5340",
   "metadata": {},
   "source": []
  }
 ],
 "metadata": {
  "language_info": {
   "name": "python"
  }
 },
 "nbformat": 4,
 "nbformat_minor": 5
}
